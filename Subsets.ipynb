{
 "cells": [
  {
   "cell_type": "code",
   "execution_count": 14,
   "id": "2f3dda6c-dfb5-41ef-a4cd-f63073866d42",
   "metadata": {},
   "outputs": [
    {
     "data": {
      "text/plain": [
       "['', 'c', 'b', 'bc', 'a', 'ac', 'ab', 'abc']"
      ]
     },
     "execution_count": 14,
     "metadata": {},
     "output_type": "execute_result"
    }
   ],
   "source": [
    "# Approach 1 --- Using Recursion\n",
    "def subsets(string_data,partial_ans,final_ans):\n",
    "    if len(string_data) == 0:\n",
    "        final_ans.append(partial_ans)\n",
    "        return\n",
    "    subsets(string_data[1:],partial_ans,final_ans)\n",
    "    partial_ans += string_data[0]\n",
    "    subsets(string_data[1:],partial_ans,final_ans)\n",
    "    return final_ans\n",
    "subsets('abc','',[])"
   ]
  },
  {
   "cell_type": "code",
   "execution_count": 27,
   "id": "627f1b8f-79ff-4d53-b674-81cc61461f26",
   "metadata": {},
   "outputs": [
    {
     "data": {
      "text/plain": [
       "['', 'a', 'b', 'ab', 'c', 'ac', 'bc', 'abc']"
      ]
     },
     "execution_count": 27,
     "metadata": {},
     "output_type": "execute_result"
    }
   ],
   "source": [
    "# Approach 2 --- Using Iterative Method\n",
    "def subsets(string_data):\n",
    "    final_ans = ['']\n",
    "    for char in string_data:\n",
    "        partial_ans = []\n",
    "        n = len(final_ans)\n",
    "        for i in range(n):\n",
    "            partial_ans.append(final_ans[i]+char)\n",
    "        final_ans.extend(partial_ans)\n",
    "    return final_ans\n",
    "subsets('abc')"
   ]
  },
  {
   "cell_type": "code",
   "execution_count": null,
   "id": "80666cf1-6db8-4ada-8ddb-33b0f2107528",
   "metadata": {},
   "outputs": [],
   "source": []
  }
 ],
 "metadata": {
  "kernelspec": {
   "display_name": "Python 3 (ipykernel)",
   "language": "python",
   "name": "python3"
  },
  "language_info": {
   "codemirror_mode": {
    "name": "ipython",
    "version": 3
   },
   "file_extension": ".py",
   "mimetype": "text/x-python",
   "name": "python",
   "nbconvert_exporter": "python",
   "pygments_lexer": "ipython3",
   "version": "3.9.0"
  }
 },
 "nbformat": 4,
 "nbformat_minor": 5
}
